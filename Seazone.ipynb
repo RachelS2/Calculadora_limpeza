{
 "cells": [
  {
   "cell_type": "code",
   "execution_count": 11,
   "metadata": {},
   "outputs": [],
   "source": [
    "import pandas as pd;\n",
    "import openpyxl\n",
    "from openpyxl.styles import NamedStyle\n"
   ]
  },
  {
   "cell_type": "code",
   "execution_count": 12,
   "metadata": {},
   "outputs": [
    {
     "name": "stdout",
     "output_type": "stream",
     "text": [
      "[{'code': 'OKA101', 'city': 'Florianópolis', 'camas de solteiro': 0, 'cama de casal': 1, 'cama queen': 0, 'cama king': 0, 'sofa cama solteiro': 1, 'sofa cama casal': 0, 'travesseiros': 4, 'numero quartos': 1, 'numero banheiros': 1, 'numero lavabos': 0, 'numero hóspedes': 3}, {'code': 'OKA102', 'city': 'Florianópolis', 'camas de solteiro': 1, 'cama de casal': 1, 'cama queen': 0, 'cama king': 0, 'sofa cama solteiro': 0, 'sofa cama casal': 0, 'travesseiros': 4, 'numero quartos': 1, 'numero banheiros': 1, 'numero lavabos': 0, 'numero hóspedes': 3}, {'code': 'OKA105', 'city': 'Florianópolis', 'camas de solteiro': 0, 'cama de casal': 1, 'cama queen': 0, 'cama king': 0, 'sofa cama solteiro': 1, 'sofa cama casal': 0, 'travesseiros': 4, 'numero quartos': 1, 'numero banheiros': 1, 'numero lavabos': 0, 'numero hóspedes': 3}, {'code': 'OKA106', 'city': 'Florianópolis', 'camas de solteiro': 0, 'cama de casal': 0, 'cama queen': 1, 'cama king': 0, 'sofa cama solteiro': 1, 'sofa cama casal': 0, 'travesseiros': 2, 'numero quartos': 1, 'numero banheiros': 1, 'numero lavabos': 0, 'numero hóspedes': 3}, {'code': 'OKA110', 'city': 'Florianópolis', 'camas de solteiro': 0, 'cama de casal': 1, 'cama queen': 0, 'cama king': 0, 'sofa cama solteiro': 1, 'sofa cama casal': 0, 'travesseiros': 4, 'numero quartos': 1, 'numero banheiros': 1, 'numero lavabos': 0, 'numero hóspedes': 3}, {'code': 'OKA111', 'city': 'Florianópolis', 'camas de solteiro': 0, 'cama de casal': 1, 'cama queen': 0, 'cama king': 0, 'sofa cama solteiro': 1, 'sofa cama casal': 0, 'travesseiros': 4, 'numero quartos': 1, 'numero banheiros': 1, 'numero lavabos': 0, 'numero hóspedes': 3}, {'code': 'OKA120', 'city': 'Florianópolis', 'camas de solteiro': 0, 'cama de casal': 1, 'cama queen': 0, 'cama king': 0, 'sofa cama solteiro': 1, 'sofa cama casal': 0, 'travesseiros': 4, 'numero quartos': 1, 'numero banheiros': 1, 'numero lavabos': 0, 'numero hóspedes': 3}, {'code': 'OKA128', 'city': 'Florianópolis', 'camas de solteiro': 0, 'cama de casal': 0, 'cama queen': 1, 'cama king': 0, 'sofa cama solteiro': 0, 'sofa cama casal': 0, 'travesseiros': 0, 'numero quartos': 1, 'numero banheiros': 1, 'numero lavabos': 0, 'numero hóspedes': 2}, {'code': 'OKA131', 'city': 'Florianópolis', 'camas de solteiro': 0, 'cama de casal': 1, 'cama queen': 0, 'cama king': 0, 'sofa cama solteiro': 1, 'sofa cama casal': 0, 'travesseiros': 4, 'numero quartos': 1, 'numero banheiros': 1, 'numero lavabos': 0, 'numero hóspedes': 3}, {'code': 'OKA134', 'city': 'Florianópolis', 'camas de solteiro': 0, 'cama de casal': 1, 'cama queen': 0, 'cama king': 0, 'sofa cama solteiro': 1, 'sofa cama casal': 0, 'travesseiros': 4, 'numero quartos': 1, 'numero banheiros': 1, 'numero lavabos': 0, 'numero hóspedes': 2}, {'code': 'OKA139', 'city': 'Florianópolis', 'camas de solteiro': 0, 'cama de casal': 0, 'cama queen': 1, 'cama king': 0, 'sofa cama solteiro': 1, 'sofa cama casal': 0, 'travesseiros': 0, 'numero quartos': 1, 'numero banheiros': 1, 'numero lavabos': 0, 'numero hóspedes': 3}, {'code': 'OKA141', 'city': 'Florianópolis', 'camas de solteiro': 0, 'cama de casal': 1, 'cama queen': 0, 'cama king': 0, 'sofa cama solteiro': 0, 'sofa cama casal': 1, 'travesseiros': 4, 'numero quartos': 1, 'numero banheiros': 1, 'numero lavabos': 0, 'numero hóspedes': 4}, {'code': 'OKA142', 'city': 'Florianópolis', 'camas de solteiro': 0, 'cama de casal': 1, 'cama queen': 0, 'cama king': 0, 'sofa cama solteiro': 1, 'sofa cama casal': 0, 'travesseiros': 4, 'numero quartos': 1, 'numero banheiros': 1, 'numero lavabos': 0, 'numero hóspedes': 3}, {'code': 'OKA204', 'city': 'Florianópolis', 'camas de solteiro': 1, 'cama de casal': 1, 'cama queen': 0, 'cama king': 0, 'sofa cama solteiro': 0, 'sofa cama casal': 0, 'travesseiros': 3, 'numero quartos': 1, 'numero banheiros': 1, 'numero lavabos': 0, 'numero hóspedes': 4}, {'code': 'OKA206', 'city': 'Florianópolis', 'camas de solteiro': 1, 'cama de casal': 0, 'cama queen': 1, 'cama king': 0, 'sofa cama solteiro': 0, 'sofa cama casal': 1, 'travesseiros': 5, 'numero quartos': 1, 'numero banheiros': 1, 'numero lavabos': 0, 'numero hóspedes': 5}, {'code': 'OKA210', 'city': 'Florianópolis', 'camas de solteiro': 1, 'cama de casal': 0, 'cama queen': 1, 'cama king': 0, 'sofa cama solteiro': 1, 'sofa cama casal': 0, 'travesseiros': 3, 'numero quartos': 1, 'numero banheiros': 1, 'numero lavabos': 0, 'numero hóspedes': 3}, {'code': 'OKA213', 'city': 'Florianópolis', 'camas de solteiro': 1, 'cama de casal': 1, 'cama queen': 0, 'cama king': 0, 'sofa cama solteiro': 1, 'sofa cama casal': 0, 'travesseiros': 5, 'numero quartos': 1, 'numero banheiros': 1, 'numero lavabos': 0, 'numero hóspedes': 5}, {'code': 'OKA216', 'city': 'Florianópolis', 'camas de solteiro': 1, 'cama de casal': 0, 'cama queen': 1, 'cama king': 0, 'sofa cama solteiro': 1, 'sofa cama casal': 0, 'travesseiros': 3, 'numero quartos': 1, 'numero banheiros': 1, 'numero lavabos': 0, 'numero hóspedes': 3}, {'code': 'OKA224', 'city': 'Florianópolis', 'camas de solteiro': 1, 'cama de casal': 0, 'cama queen': 1, 'cama king': 0, 'sofa cama solteiro': 0, 'sofa cama casal': 0, 'travesseiros': 5, 'numero quartos': 1, 'numero banheiros': 1, 'numero lavabos': 0, 'numero hóspedes': 5}, {'code': 'OKA233', 'city': 'Florianópolis', 'camas de solteiro': 1, 'cama de casal': 0, 'cama queen': 1, 'cama king': 0, 'sofa cama solteiro': 0, 'sofa cama casal': 1, 'travesseiros': 5, 'numero quartos': 1, 'numero banheiros': 1, 'numero lavabos': 0, 'numero hóspedes': 5}]\n"
     ]
    }
   ],
   "source": [
    "#Lê a aba de Configurações do Imóvel\n",
    "df_conf_imovel = pd.read_excel('Parametros - Taxa de Limpeza.xlsx', sheet_name='Configuração-Imóvel')\n",
    "\n",
    "#Remove colunas indesejadas\n",
    "df_filtrado = df_conf_imovel.drop(columns=['neighborhood', 'state', 'status'])\n",
    "\n",
    "# Converte as colunas da aba para dicionário com chaves em letras minúsculas\n",
    "code_moveis_comodos = [{k.lower(): v for k, v in item.items()} for item in df_filtrado.to_dict(orient='records')]\n",
    "\n",
    "print(code_moveis_comodos)"
   ]
  },
  {
   "cell_type": "code",
   "execution_count": null,
   "metadata": {},
   "outputs": [],
   "source": [
    "def pega_total_amenities_new(num_hospedes):\n",
    "    df_amenities = pd.read_excel('Parametros - Taxa de Limpeza.xlsx', sheet_name='BD - Amenities')\n",
    "    total_amenities = df_amenities[df_amenities['total final'].values[0]]\n",
    "    return total_amenities * num_hospedes"
   ]
  },
  {
   "cell_type": "code",
   "execution_count": null,
   "metadata": {},
   "outputs": [],
   "source": [
    "#5. Pega o número de imóveis na planilha\n",
    "num_imoveis = len(code_moveis_comodos)\n",
    "\n",
    "#6. percorre os imóveis armazenados no dicionario\n",
    "for imovel in range(num_imoveis):\n",
    "    num_hospedes = code_moveis_comodos[imovel]['numero hóspedes']\n",
    "    total_amenities = pega_total_amenities_new\n",
    "\n",
    "    code_moveis_comodos[imovel]['total de gastos de amenities'] = total_amenities"
   ]
  },
  {
   "cell_type": "code",
   "execution_count": 13,
   "metadata": {},
   "outputs": [],
   "source": [
    "def pega_total_amenities(df_amenities, nome_do_item):\n",
    "    linha_item_banheiro = df_amenities[df_amenities['item'] == nome_do_item]\n",
    "    valor_item = linha_item_banheiro['total'].values[0]\n",
    "    return valor_item"
   ]
  },
  {
   "cell_type": "code",
   "execution_count": 14,
   "metadata": {},
   "outputs": [],
   "source": [
    "df_amenities = pd.read_excel('Parametros - Taxa de Limpeza.xlsx', sheet_name='BD - Amenities')\n",
    "\n",
    "#1. Filtra a coluna \"Banheiro\" da planilha \"BD - Amenities\"\n",
    "df_amenities_banheiro = df_amenities[df_amenities['local'] == 'Banheiro']\n",
    "\n",
    "#2. Pega o preço total de sabonetes, papel higienico e shampoo por banheiro\n",
    "total_sabonete_banheiro = pega_total_amenities(df_amenities_banheiro, 'Sabonete')\n",
    "total_papel_banheiro = pega_total_amenities(df_amenities_banheiro, 'Papel Higiênico')\n",
    "total_shampoo_banheiro = pega_total_amenities(df_amenities_banheiro, 'shampoo')\n",
    "total_condic_banheiro = pega_total_amenities(df_amenities_banheiro, 'condicionador')\n",
    "\n",
    "#3. Filtra a coluna \"Lavabos\" da planilha \"BD - Amenities\"\n",
    "df_amenities_lavabo = df_amenities[df_amenities['local'] == 'Lavabo']\n",
    "\n",
    "#4. Pega o preço total de sabonetes e papel higienico por lavabo\n",
    "total_sabonete_lavabo = pega_total_amenities(df_amenities_lavabo, 'Sabonete')\n",
    "total_papel_lavabo = pega_total_amenities(df_amenities_lavabo, 'Papel Higiênico')\n",
    "\n",
    "#5. Pega o número de imóveis na planilha\n",
    "num_imoveis = len(code_moveis_comodos)\n",
    "\n",
    "#6. percorre os imóveis armazenados no dicionario\n",
    "for imovel in range(num_imoveis):\n",
    "\n",
    "    #6.1. Encontra o preço total dos itens por banheiro e insere a informação no dicionario\n",
    "    num_banheiros_imovel = float(code_moveis_comodos[imovel]['numero banheiros'])\n",
    "    sabonete_banhe = float(total_sabonete_banheiro * num_banheiros_imovel)\n",
    "    papel_higienico_banhe = float(total_papel_banheiro * num_banheiros_imovel)\n",
    "    shampoo_banhe = float(total_shampoo_banheiro * num_banheiros_imovel)\n",
    "    condicionador_banhe = float(total_condic_banheiro * num_banheiros_imovel)\n",
    "    code_moveis_comodos[imovel]['total de gastos do banheiro'] = sabonete_banhe + papel_higienico_banhe + shampoo_banhe + condicionador_banhe\n",
    "\n",
    "    #6.2. Encontra o preço total dos itens por lavabo e insere a informação no dicionario\n",
    "    num_lavabos_imovel = float(code_moveis_comodos[imovel]['numero lavabos'])\n",
    "    sabonete_lavabo = float(total_sabonete_lavabo * num_lavabos_imovel)\n",
    "    papel_higienico_lavabo = float(total_papel_lavabo * num_lavabos_imovel)\n",
    "    total_lavabo = sabonete_lavabo + papel_higienico_lavabo\n",
    "    code_moveis_comodos[imovel]['total de gastos do lavabo'] = sabonete_lavabo + papel_higienico_lavabo"
   ]
  },
  {
   "cell_type": "code",
   "execution_count": 15,
   "metadata": {},
   "outputs": [
    {
     "name": "stdout",
     "output_type": "stream",
     "text": [
      "[{'code': 'OKA101', 'city': 'Florianópolis', 'camas de solteiro': 0, 'cama de casal': 1, 'cama queen': 0, 'cama king': 0, 'sofa cama solteiro': 1, 'sofa cama casal': 0, 'travesseiros': 4, 'numero quartos': 1, 'numero banheiros': 1, 'numero lavabos': 0, 'numero hóspedes': 3, 'total de gastos do banheiro': 34.245, 'total de gastos do lavabo': 0.0, 'toalha de rosto': 2, 'toalha de piso': 2, 'toalha de maquiagem': 0, 'toalha de banho': 7, 'pano de prato': 0, 'pano de pia': 0, 'manta queen size': 1, 'lençol solteiro': 2, 'lençol queen size': 0, 'lençol king size': 0, 'lençol casal': 6, 'fronha': 7, 'edredom solteiro': 0, 'edredom queen size': 0, 'edredom king size': 0, 'edredom casal': 3, 'colcha solteiro': 0, 'colcha queen size': 0, 'colcha casal': 0, 'cobertor queen size': 0, 'capa edredom solteiro': 0, 'capa edredom queen size': 0, 'capa edredom king size': 0, 'capa edredom casal': 3}, {'code': 'OKA102', 'city': 'Florianópolis', 'camas de solteiro': 1, 'cama de casal': 1, 'cama queen': 0, 'cama king': 0, 'sofa cama solteiro': 0, 'sofa cama casal': 0, 'travesseiros': 4, 'numero quartos': 1, 'numero banheiros': 1, 'numero lavabos': 0, 'numero hóspedes': 3, 'total de gastos do banheiro': 34.245, 'total de gastos do lavabo': 0.0, 'toalha de rosto': 1, 'toalha de piso': 1, 'toalha de maquiagem': 0, 'toalha de banho': 4, 'pano de prato': 0, 'pano de pia': 0, 'manta queen size': 0, 'lençol solteiro': 0, 'lençol queen size': 4, 'lençol king size': 0, 'lençol casal': 0, 'fronha': 4, 'edredom solteiro': 0, 'edredom queen size': 2, 'edredom king size': 0, 'edredom casal': 0, 'colcha solteiro': 0, 'colcha queen size': 0, 'colcha casal': 0, 'cobertor queen size': 0, 'capa edredom solteiro': 0, 'capa edredom queen size': 2, 'capa edredom king size': 0, 'capa edredom casal': 0}, {'code': 'OKA105', 'city': 'Florianópolis', 'camas de solteiro': 0, 'cama de casal': 1, 'cama queen': 0, 'cama king': 0, 'sofa cama solteiro': 1, 'sofa cama casal': 0, 'travesseiros': 4, 'numero quartos': 1, 'numero banheiros': 1, 'numero lavabos': 0, 'numero hóspedes': 3, 'total de gastos do banheiro': 34.245, 'total de gastos do lavabo': 0.0, 'toalha de rosto': 3, 'toalha de piso': 3, 'toalha de maquiagem': 0, 'toalha de banho': 5, 'pano de prato': 0, 'pano de pia': 0, 'manta queen size': 1, 'lençol solteiro': 2, 'lençol queen size': 0, 'lençol king size': 0, 'lençol casal': 4, 'fronha': 5, 'edredom solteiro': 0, 'edredom queen size': 0, 'edredom king size': 0, 'edredom casal': 2, 'colcha solteiro': 0, 'colcha queen size': 0, 'colcha casal': 0, 'cobertor queen size': 0, 'capa edredom solteiro': 0, 'capa edredom queen size': 0, 'capa edredom king size': 0, 'capa edredom casal': 2}, {'code': 'OKA106', 'city': 'Florianópolis', 'camas de solteiro': 0, 'cama de casal': 0, 'cama queen': 1, 'cama king': 0, 'sofa cama solteiro': 1, 'sofa cama casal': 0, 'travesseiros': 2, 'numero quartos': 1, 'numero banheiros': 1, 'numero lavabos': 0, 'numero hóspedes': 3, 'total de gastos do banheiro': 34.245, 'total de gastos do lavabo': 0.0, 'toalha de rosto': 2, 'toalha de piso': 2, 'toalha de maquiagem': 0, 'toalha de banho': 7, 'pano de prato': 0, 'pano de pia': 0, 'manta queen size': 3, 'lençol solteiro': 6, 'lençol queen size': 4, 'lençol king size': 0, 'lençol casal': 0, 'fronha': 7, 'edredom solteiro': 0, 'edredom queen size': 2, 'edredom king size': 0, 'edredom casal': 0, 'colcha solteiro': 0, 'colcha queen size': 0, 'colcha casal': 0, 'cobertor queen size': 0, 'capa edredom solteiro': 0, 'capa edredom queen size': 2, 'capa edredom king size': 0, 'capa edredom casal': 0}, {'code': 'OKA110', 'city': 'Florianópolis', 'camas de solteiro': 0, 'cama de casal': 1, 'cama queen': 0, 'cama king': 0, 'sofa cama solteiro': 1, 'sofa cama casal': 0, 'travesseiros': 4, 'numero quartos': 1, 'numero banheiros': 1, 'numero lavabos': 0, 'numero hóspedes': 3, 'total de gastos do banheiro': 34.245, 'total de gastos do lavabo': 0.0, 'toalha de rosto': 2, 'toalha de piso': 2, 'toalha de maquiagem': 0, 'toalha de banho': 7, 'pano de prato': 0, 'pano de pia': 0, 'manta queen size': 5, 'lençol solteiro': 10, 'lençol queen size': 0, 'lençol king size': 0, 'lençol casal': 2, 'fronha': 7, 'edredom solteiro': 0, 'edredom queen size': 0, 'edredom king size': 0, 'edredom casal': 1, 'colcha solteiro': 0, 'colcha queen size': 0, 'colcha casal': 0, 'cobertor queen size': 0, 'capa edredom solteiro': 0, 'capa edredom queen size': 0, 'capa edredom king size': 0, 'capa edredom casal': 1}, {'code': 'OKA111', 'city': 'Florianópolis', 'camas de solteiro': 0, 'cama de casal': 1, 'cama queen': 0, 'cama king': 0, 'sofa cama solteiro': 1, 'sofa cama casal': 0, 'travesseiros': 4, 'numero quartos': 1, 'numero banheiros': 1, 'numero lavabos': 0, 'numero hóspedes': 3, 'total de gastos do banheiro': 34.245, 'total de gastos do lavabo': 0.0, 'toalha de rosto': 2, 'toalha de piso': 2, 'toalha de maquiagem': 0, 'toalha de banho': 5, 'pano de prato': 0, 'pano de pia': 0, 'manta queen size': 3, 'lençol solteiro': 6, 'lençol queen size': 0, 'lençol king size': 0, 'lençol casal': 2, 'fronha': 5, 'edredom solteiro': 0, 'edredom queen size': 0, 'edredom king size': 0, 'edredom casal': 1, 'colcha solteiro': 0, 'colcha queen size': 0, 'colcha casal': 0, 'cobertor queen size': 0, 'capa edredom solteiro': 0, 'capa edredom queen size': 0, 'capa edredom king size': 0, 'capa edredom casal': 1}, {'code': 'OKA120', 'city': 'Florianópolis', 'camas de solteiro': 0, 'cama de casal': 1, 'cama queen': 0, 'cama king': 0, 'sofa cama solteiro': 1, 'sofa cama casal': 0, 'travesseiros': 4, 'numero quartos': 1, 'numero banheiros': 1, 'numero lavabos': 0, 'numero hóspedes': 3, 'total de gastos do banheiro': 34.245, 'total de gastos do lavabo': 0.0, 'toalha de rosto': 2, 'toalha de piso': 2, 'toalha de maquiagem': 0, 'toalha de banho': 6, 'pano de prato': 0, 'pano de pia': 0, 'manta queen size': 0, 'lençol solteiro': 0, 'lençol queen size': 0, 'lençol king size': 0, 'lençol casal': 6, 'fronha': 6, 'edredom solteiro': 0, 'edredom queen size': 0, 'edredom king size': 0, 'edredom casal': 3, 'colcha solteiro': 0, 'colcha queen size': 0, 'colcha casal': 0, 'cobertor queen size': 0, 'capa edredom solteiro': 0, 'capa edredom queen size': 0, 'capa edredom king size': 0, 'capa edredom casal': 3}, {'code': 'OKA128', 'city': 'Florianópolis', 'camas de solteiro': 0, 'cama de casal': 0, 'cama queen': 1, 'cama king': 0, 'sofa cama solteiro': 0, 'sofa cama casal': 0, 'travesseiros': 0, 'numero quartos': 1, 'numero banheiros': 1, 'numero lavabos': 0, 'numero hóspedes': 2, 'total de gastos do banheiro': 34.245, 'total de gastos do lavabo': 0.0, 'toalha de rosto': 1, 'toalha de piso': 1, 'toalha de maquiagem': 0, 'toalha de banho': 4, 'pano de prato': 0, 'pano de pia': 0, 'manta queen size': 1, 'lençol solteiro': 0, 'lençol queen size': 2, 'lençol king size': 0, 'lençol casal': 2, 'fronha': 4, 'edredom solteiro': 0, 'edredom queen size': 1, 'edredom king size': 0, 'edredom casal': 0, 'colcha solteiro': 0, 'colcha queen size': 0, 'colcha casal': 0, 'cobertor queen size': 0, 'capa edredom solteiro': 0, 'capa edredom queen size': 1, 'capa edredom king size': 0, 'capa edredom casal': 0}, {'code': 'OKA131', 'city': 'Florianópolis', 'camas de solteiro': 0, 'cama de casal': 1, 'cama queen': 0, 'cama king': 0, 'sofa cama solteiro': 1, 'sofa cama casal': 0, 'travesseiros': 4, 'numero quartos': 1, 'numero banheiros': 1, 'numero lavabos': 0, 'numero hóspedes': 3, 'total de gastos do banheiro': 34.245, 'total de gastos do lavabo': 0.0, 'toalha de rosto': 1, 'toalha de piso': 1, 'toalha de maquiagem': 0, 'toalha de banho': 3, 'pano de prato': 0, 'pano de pia': 0, 'manta queen size': 1, 'lençol solteiro': 2, 'lençol queen size': 2, 'lençol king size': 0, 'lençol casal': 0, 'fronha': 3, 'edredom solteiro': 0, 'edredom queen size': 1, 'edredom king size': 0, 'edredom casal': 0, 'colcha solteiro': 0, 'colcha queen size': 0, 'colcha casal': 0, 'cobertor queen size': 0, 'capa edredom solteiro': 0, 'capa edredom queen size': 1, 'capa edredom king size': 0, 'capa edredom casal': 0}, {'code': 'OKA134', 'city': 'Florianópolis', 'camas de solteiro': 0, 'cama de casal': 1, 'cama queen': 0, 'cama king': 0, 'sofa cama solteiro': 1, 'sofa cama casal': 0, 'travesseiros': 4, 'numero quartos': 1, 'numero banheiros': 1, 'numero lavabos': 0, 'numero hóspedes': 2, 'total de gastos do banheiro': 34.245, 'total de gastos do lavabo': 0.0, 'toalha de rosto': 1, 'toalha de piso': 1, 'toalha de maquiagem': 0, 'toalha de banho': 2, 'pano de prato': 0, 'pano de pia': 0, 'manta queen size': 1, 'lençol solteiro': 0, 'lençol queen size': 0, 'lençol king size': 0, 'lençol casal': 2, 'fronha': 2, 'edredom solteiro': 0, 'edredom queen size': 0, 'edredom king size': 0, 'edredom casal': 0, 'colcha solteiro': 0, 'colcha queen size': 0, 'colcha casal': 1, 'cobertor queen size': 0, 'capa edredom solteiro': 0, 'capa edredom queen size': 0, 'capa edredom king size': 0, 'capa edredom casal': 0}, {'code': 'OKA139', 'city': 'Florianópolis', 'camas de solteiro': 0, 'cama de casal': 0, 'cama queen': 1, 'cama king': 0, 'sofa cama solteiro': 1, 'sofa cama casal': 0, 'travesseiros': 0, 'numero quartos': 1, 'numero banheiros': 1, 'numero lavabos': 0, 'numero hóspedes': 3, 'total de gastos do banheiro': 34.245, 'total de gastos do lavabo': 0.0, 'toalha de rosto': 2, 'toalha de piso': 2, 'toalha de maquiagem': 2, 'toalha de banho': 4, 'pano de prato': 1, 'pano de pia': 1, 'manta queen size': 2, 'lençol solteiro': 0, 'lençol queen size': 2, 'lençol king size': 0, 'lençol casal': 2, 'fronha': 4, 'edredom solteiro': 0, 'edredom queen size': 0, 'edredom king size': 0, 'edredom casal': 0, 'colcha solteiro': 0, 'colcha queen size': 0, 'colcha casal': 0, 'cobertor queen size': 0, 'capa edredom solteiro': 0, 'capa edredom queen size': 0, 'capa edredom king size': 0, 'capa edredom casal': 0}, {'code': 'OKA141', 'city': 'Florianópolis', 'camas de solteiro': 0, 'cama de casal': 1, 'cama queen': 0, 'cama king': 0, 'sofa cama solteiro': 0, 'sofa cama casal': 1, 'travesseiros': 4, 'numero quartos': 1, 'numero banheiros': 1, 'numero lavabos': 0, 'numero hóspedes': 4, 'total de gastos do banheiro': 34.245, 'total de gastos do lavabo': 0.0, 'toalha de rosto': 2, 'toalha de piso': 2, 'toalha de maquiagem': 0, 'toalha de banho': 5, 'pano de prato': 0, 'pano de pia': 0, 'manta queen size': 3, 'lençol solteiro': 6, 'lençol queen size': 2, 'lençol king size': 0, 'lençol casal': 0, 'fronha': 5, 'edredom solteiro': 0, 'edredom queen size': 1, 'edredom king size': 0, 'edredom casal': 0, 'colcha solteiro': 0, 'colcha queen size': 0, 'colcha casal': 0, 'cobertor queen size': 0, 'capa edredom solteiro': 0, 'capa edredom queen size': 1, 'capa edredom king size': 0, 'capa edredom casal': 0}, {'code': 'OKA142', 'city': 'Florianópolis', 'camas de solteiro': 0, 'cama de casal': 1, 'cama queen': 0, 'cama king': 0, 'sofa cama solteiro': 1, 'sofa cama casal': 0, 'travesseiros': 4, 'numero quartos': 1, 'numero banheiros': 1, 'numero lavabos': 0, 'numero hóspedes': 3, 'total de gastos do banheiro': 34.245, 'total de gastos do lavabo': 0.0, 'toalha de rosto': 1, 'toalha de piso': 1, 'toalha de maquiagem': 0, 'toalha de banho': 4, 'pano de prato': 0, 'pano de pia': 0, 'manta queen size': 2, 'lençol solteiro': 0, 'lençol queen size': 0, 'lençol king size': 0, 'lençol casal': 4, 'fronha': 4, 'edredom solteiro': 0, 'edredom queen size': 0, 'edredom king size': 0, 'edredom casal': 0, 'colcha solteiro': 0, 'colcha queen size': 0, 'colcha casal': 0, 'cobertor queen size': 0, 'capa edredom solteiro': 0, 'capa edredom queen size': 0, 'capa edredom king size': 0, 'capa edredom casal': 0}, {'code': 'OKA204', 'city': 'Florianópolis', 'camas de solteiro': 1, 'cama de casal': 1, 'cama queen': 0, 'cama king': 0, 'sofa cama solteiro': 0, 'sofa cama casal': 0, 'travesseiros': 3, 'numero quartos': 1, 'numero banheiros': 1, 'numero lavabos': 0, 'numero hóspedes': 4, 'total de gastos do banheiro': 34.245, 'total de gastos do lavabo': 0.0, 'toalha de rosto': 1, 'toalha de piso': 1, 'toalha de maquiagem': 0, 'toalha de banho': 4, 'pano de prato': 0, 'pano de pia': 0, 'manta queen size': 1, 'lençol solteiro': 0, 'lençol queen size': 2, 'lençol king size': 0, 'lençol casal': 2, 'fronha': 4, 'edredom solteiro': 0, 'edredom queen size': 1, 'edredom king size': 0, 'edredom casal': 0, 'colcha solteiro': 0, 'colcha queen size': 0, 'colcha casal': 0, 'cobertor queen size': 0, 'capa edredom solteiro': 0, 'capa edredom queen size': 1, 'capa edredom king size': 0, 'capa edredom casal': 0}, {'code': 'OKA206', 'city': 'Florianópolis', 'camas de solteiro': 1, 'cama de casal': 0, 'cama queen': 1, 'cama king': 0, 'sofa cama solteiro': 0, 'sofa cama casal': 1, 'travesseiros': 5, 'numero quartos': 1, 'numero banheiros': 1, 'numero lavabos': 0, 'numero hóspedes': 5, 'total de gastos do banheiro': 34.245, 'total de gastos do lavabo': 0.0, 'toalha de rosto': 0, 'toalha de piso': 0, 'toalha de maquiagem': 0, 'toalha de banho': 0, 'pano de prato': 0, 'pano de pia': 0, 'manta queen size': 0, 'lençol solteiro': 0, 'lençol queen size': 0, 'lençol king size': 0, 'lençol casal': 0, 'fronha': 0, 'edredom solteiro': 0, 'edredom queen size': 0, 'edredom king size': 0, 'edredom casal': 0, 'colcha solteiro': 0, 'colcha queen size': 0, 'colcha casal': 0, 'cobertor queen size': 0, 'capa edredom solteiro': 0, 'capa edredom queen size': 0, 'capa edredom king size': 0, 'capa edredom casal': 0}, {'code': 'OKA210', 'city': 'Florianópolis', 'camas de solteiro': 1, 'cama de casal': 0, 'cama queen': 1, 'cama king': 0, 'sofa cama solteiro': 1, 'sofa cama casal': 0, 'travesseiros': 3, 'numero quartos': 1, 'numero banheiros': 1, 'numero lavabos': 0, 'numero hóspedes': 3, 'total de gastos do banheiro': 34.245, 'total de gastos do lavabo': 0.0, 'toalha de rosto': 2, 'toalha de piso': 2, 'toalha de maquiagem': 0, 'toalha de banho': 6, 'pano de prato': 0, 'pano de pia': 0, 'manta queen size': 4, 'lençol solteiro': 8, 'lençol queen size': 2, 'lençol king size': 0, 'lençol casal': 0, 'fronha': 6, 'edredom solteiro': 0, 'edredom queen size': 1, 'edredom king size': 0, 'edredom casal': 0, 'colcha solteiro': 0, 'colcha queen size': 0, 'colcha casal': 0, 'cobertor queen size': 0, 'capa edredom solteiro': 0, 'capa edredom queen size': 1, 'capa edredom king size': 0, 'capa edredom casal': 0}, {'code': 'OKA213', 'city': 'Florianópolis', 'camas de solteiro': 1, 'cama de casal': 1, 'cama queen': 0, 'cama king': 0, 'sofa cama solteiro': 1, 'sofa cama casal': 0, 'travesseiros': 5, 'numero quartos': 1, 'numero banheiros': 1, 'numero lavabos': 0, 'numero hóspedes': 5, 'total de gastos do banheiro': 34.245, 'total de gastos do lavabo': 0.0, 'toalha de rosto': 0, 'toalha de piso': 0, 'toalha de maquiagem': 0, 'toalha de banho': 0, 'pano de prato': 0, 'pano de pia': 0, 'manta queen size': 0, 'lençol solteiro': 0, 'lençol queen size': 0, 'lençol king size': 0, 'lençol casal': 0, 'fronha': 0, 'edredom solteiro': 0, 'edredom queen size': 0, 'edredom king size': 0, 'edredom casal': 0, 'colcha solteiro': 0, 'colcha queen size': 0, 'colcha casal': 0, 'cobertor queen size': 0, 'capa edredom solteiro': 0, 'capa edredom queen size': 0, 'capa edredom king size': 0, 'capa edredom casal': 0}, {'code': 'OKA216', 'city': 'Florianópolis', 'camas de solteiro': 1, 'cama de casal': 0, 'cama queen': 1, 'cama king': 0, 'sofa cama solteiro': 1, 'sofa cama casal': 0, 'travesseiros': 3, 'numero quartos': 1, 'numero banheiros': 1, 'numero lavabos': 0, 'numero hóspedes': 3, 'total de gastos do banheiro': 34.245, 'total de gastos do lavabo': 0.0, 'toalha de rosto': 2, 'toalha de piso': 2, 'toalha de maquiagem': 0, 'toalha de banho': 7, 'pano de prato': 0, 'pano de pia': 0, 'manta queen size': 5, 'lençol solteiro': 10, 'lençol queen size': 0, 'lençol king size': 0, 'lençol casal': 2, 'fronha': 7, 'edredom solteiro': 0, 'edredom queen size': 0, 'edredom king size': 0, 'edredom casal': 1, 'colcha solteiro': 0, 'colcha queen size': 0, 'colcha casal': 0, 'cobertor queen size': 0, 'capa edredom solteiro': 0, 'capa edredom queen size': 0, 'capa edredom king size': 0, 'capa edredom casal': 1}, {'code': 'OKA224', 'city': 'Florianópolis', 'camas de solteiro': 1, 'cama de casal': 0, 'cama queen': 1, 'cama king': 0, 'sofa cama solteiro': 0, 'sofa cama casal': 0, 'travesseiros': 5, 'numero quartos': 1, 'numero banheiros': 1, 'numero lavabos': 0, 'numero hóspedes': 5, 'total de gastos do banheiro': 34.245, 'total de gastos do lavabo': 0.0, 'toalha de rosto': 2, 'toalha de piso': 2, 'toalha de maquiagem': 0, 'toalha de banho': 6, 'pano de prato': 0, 'pano de pia': 0, 'manta queen size': 2, 'lençol solteiro': 4, 'lençol queen size': 2, 'lençol king size': 0, 'lençol casal': 2, 'fronha': 6, 'edredom solteiro': 0, 'edredom queen size': 1, 'edredom king size': 0, 'edredom casal': 1, 'colcha solteiro': 0, 'colcha queen size': 0, 'colcha casal': 0, 'cobertor queen size': 0, 'capa edredom solteiro': 0, 'capa edredom queen size': 1, 'capa edredom king size': 0, 'capa edredom casal': 1}, {'code': 'OKA233', 'city': 'Florianópolis', 'camas de solteiro': 1, 'cama de casal': 0, 'cama queen': 1, 'cama king': 0, 'sofa cama solteiro': 0, 'sofa cama casal': 1, 'travesseiros': 5, 'numero quartos': 1, 'numero banheiros': 1, 'numero lavabos': 0, 'numero hóspedes': 5, 'total de gastos do banheiro': 34.245, 'total de gastos do lavabo': 0.0, 'toalha de rosto': 1, 'toalha de piso': 1, 'toalha de maquiagem': 0, 'toalha de banho': 3, 'pano de prato': 0, 'pano de pia': 0, 'manta queen size': 1, 'lençol solteiro': 2, 'lençol queen size': 0, 'lençol king size': 0, 'lençol casal': 2, 'fronha': 3, 'edredom solteiro': 0, 'edredom queen size': 0, 'edredom king size': 0, 'edredom casal': 1, 'colcha solteiro': 0, 'colcha queen size': 0, 'colcha casal': 0, 'cobertor queen size': 0, 'capa edredom solteiro': 0, 'capa edredom queen size': 0, 'capa edredom king size': 0, 'capa edredom casal': 1}]\n"
     ]
    }
   ],
   "source": [
    "df_estoque_imovel = pd.read_excel('Parametros - Taxa de Limpeza.xlsx', sheet_name='Estoque-Imóvel')\n",
    "\n",
    "df_filtrado = df_estoque_imovel.drop(columns=['neighborhood', 'state', 'status', 'city']) #remove colunas indesejadas\n",
    "code_imovel_estoque = df_filtrado.to_dict(orient='records') #Faz um dicionário que armazena o codigo do imóvel e seu estoque\n",
    "\n",
    "estoque_do_imovel = len(code_imovel_estoque)\n",
    "comodos_do_imovel = len(code_moveis_comodos)\n",
    "\n",
    "#unifica abas 'Configuração do imóvel' e 'Estoque do imóvel'\n",
    "for comodos in range(comodos_do_imovel): \n",
    "    chave_code = code_moveis_comodos[comodos]['code'] #pega o codigo do imovel \n",
    "\n",
    "    for imovel in range(estoque_do_imovel): #percorre a lista relacionada ao estoque dos imoveis\n",
    "        code = code_imovel_estoque[imovel]['code'] \n",
    "        \n",
    "        if code == chave_code: #se o codigo existe em ambos os dicionarios...\n",
    "            for k,v in code_imovel_estoque[imovel].items():\n",
    "                code_moveis_comodos[imovel][k.lower()] = v #adiciona as infos de estoque do imovel no dicionario de comodos\n",
    "\n",
    "print(code_moveis_comodos)"
   ]
  },
  {
   "cell_type": "code",
   "execution_count": 16,
   "metadata": {},
   "outputs": [],
   "source": [
    "def soma_elementos_lista(lista):\n",
    "    soma = 0\n",
    "    for numero in lista:\n",
    "        soma += numero\n",
    "    return soma"
   ]
  },
  {
   "cell_type": "code",
   "execution_count": 38,
   "metadata": {},
   "outputs": [],
   "source": [
    "#Encontrar o custo da lavanderia de cada imóvel\n",
    "\n",
    "qtde_imoveis = len(code_moveis_comodos) \n",
    "df_valor_lavanderia = pd.read_excel('Parametros - Taxa de Limpeza.xlsx', sheet_name='BD - Valor Lavanderia Por Item') \n",
    "colunas_de_interesse = [\n",
    "            'Toalha de Maquiagem', 'Pano de Pia', 'Fronha', 'Toalha de rosto', 'Pano de Prato', 'Toalha de piso',\n",
    "            'Toalha de banho', 'Lençol solteiro', 'Lençol casal', 'Lençol queen size', 'Lençol king size', \n",
    "            'Manta queen size', 'Edredom solteiro', 'Edredom casal', 'Edredom queen size', 'Edredom king size',\n",
    "            'Capa edredom solteiro', 'Capa edredom casal', 'Capa edredom queen size', 'Capa edredom king size', \n",
    "            'Colcha solteiro', 'Colcha casal', 'Colcha queen size', 'Cobertor queen size' ]\n",
    "for imovel in range(qtde_imoveis): \n",
    "    dados_do_imovel = code_moveis_comodos[imovel] #pega dicionario com infos do imovel\n",
    "    cidade_do_imovel = dados_do_imovel['city']\n",
    "    df_filtro_cidade = df_valor_lavanderia[df_valor_lavanderia['City'] == cidade_do_imovel]\n",
    "    df_apenas_valores = df_filtro_cidade[colunas_de_interesse]  # Filtra as colunas de interesse na planilha\n",
    "    numero_da_linha = df_apenas_valores.index[0] #pega o indice da linha da cidade em questão\n",
    "    preco_lavanderia_imovel = []\n",
    "\n",
    "    for produto in colunas_de_interesse:\n",
    "        nome_do_produto = produto.lower()\n",
    "        qtde_produto_imovel = dados_do_imovel.get(nome_do_produto, 0)  # Usa get para evitar erro se a chave não existir\n",
    "        valor_produto = round(df_apenas_valores[produto].values[0], 2)  # Arredonda para 2 casas decimais\n",
    "        preco_lavanderia_imovel.append(qtde_produto_imovel * valor_produto)\n",
    "    code_moveis_comodos[imovel]['total de gastos da lavanderia'] = soma_elementos_lista(preco_lavanderia_imovel)\n"
   ]
  },
  {
   "cell_type": "code",
   "execution_count": 39,
   "metadata": {},
   "outputs": [
    {
     "name": "stderr",
     "output_type": "stream",
     "text": [
      "C:\\Users\\rachels\\AppData\\Local\\Temp\\ipykernel_7940\\2443159915.py:9: UserWarning: Boolean Series key will be reindexed to match DataFrame index.\n",
      "  df_filtro_cidade = df_apenas_valores[df_valor_lavanderia['City'] == cidade_do_imovel]\n",
      "C:\\Users\\rachels\\AppData\\Local\\Temp\\ipykernel_7940\\2443159915.py:9: UserWarning: Boolean Series key will be reindexed to match DataFrame index.\n",
      "  df_filtro_cidade = df_apenas_valores[df_valor_lavanderia['City'] == cidade_do_imovel]\n",
      "C:\\Users\\rachels\\AppData\\Local\\Temp\\ipykernel_7940\\2443159915.py:9: UserWarning: Boolean Series key will be reindexed to match DataFrame index.\n",
      "  df_filtro_cidade = df_apenas_valores[df_valor_lavanderia['City'] == cidade_do_imovel]\n",
      "C:\\Users\\rachels\\AppData\\Local\\Temp\\ipykernel_7940\\2443159915.py:9: UserWarning: Boolean Series key will be reindexed to match DataFrame index.\n",
      "  df_filtro_cidade = df_apenas_valores[df_valor_lavanderia['City'] == cidade_do_imovel]\n",
      "C:\\Users\\rachels\\AppData\\Local\\Temp\\ipykernel_7940\\2443159915.py:9: UserWarning: Boolean Series key will be reindexed to match DataFrame index.\n",
      "  df_filtro_cidade = df_apenas_valores[df_valor_lavanderia['City'] == cidade_do_imovel]\n",
      "C:\\Users\\rachels\\AppData\\Local\\Temp\\ipykernel_7940\\2443159915.py:9: UserWarning: Boolean Series key will be reindexed to match DataFrame index.\n",
      "  df_filtro_cidade = df_apenas_valores[df_valor_lavanderia['City'] == cidade_do_imovel]\n",
      "C:\\Users\\rachels\\AppData\\Local\\Temp\\ipykernel_7940\\2443159915.py:9: UserWarning: Boolean Series key will be reindexed to match DataFrame index.\n",
      "  df_filtro_cidade = df_apenas_valores[df_valor_lavanderia['City'] == cidade_do_imovel]\n",
      "C:\\Users\\rachels\\AppData\\Local\\Temp\\ipykernel_7940\\2443159915.py:9: UserWarning: Boolean Series key will be reindexed to match DataFrame index.\n",
      "  df_filtro_cidade = df_apenas_valores[df_valor_lavanderia['City'] == cidade_do_imovel]\n",
      "C:\\Users\\rachels\\AppData\\Local\\Temp\\ipykernel_7940\\2443159915.py:9: UserWarning: Boolean Series key will be reindexed to match DataFrame index.\n",
      "  df_filtro_cidade = df_apenas_valores[df_valor_lavanderia['City'] == cidade_do_imovel]\n",
      "C:\\Users\\rachels\\AppData\\Local\\Temp\\ipykernel_7940\\2443159915.py:9: UserWarning: Boolean Series key will be reindexed to match DataFrame index.\n",
      "  df_filtro_cidade = df_apenas_valores[df_valor_lavanderia['City'] == cidade_do_imovel]\n",
      "C:\\Users\\rachels\\AppData\\Local\\Temp\\ipykernel_7940\\2443159915.py:9: UserWarning: Boolean Series key will be reindexed to match DataFrame index.\n",
      "  df_filtro_cidade = df_apenas_valores[df_valor_lavanderia['City'] == cidade_do_imovel]\n",
      "C:\\Users\\rachels\\AppData\\Local\\Temp\\ipykernel_7940\\2443159915.py:9: UserWarning: Boolean Series key will be reindexed to match DataFrame index.\n",
      "  df_filtro_cidade = df_apenas_valores[df_valor_lavanderia['City'] == cidade_do_imovel]\n",
      "C:\\Users\\rachels\\AppData\\Local\\Temp\\ipykernel_7940\\2443159915.py:9: UserWarning: Boolean Series key will be reindexed to match DataFrame index.\n",
      "  df_filtro_cidade = df_apenas_valores[df_valor_lavanderia['City'] == cidade_do_imovel]\n",
      "C:\\Users\\rachels\\AppData\\Local\\Temp\\ipykernel_7940\\2443159915.py:9: UserWarning: Boolean Series key will be reindexed to match DataFrame index.\n",
      "  df_filtro_cidade = df_apenas_valores[df_valor_lavanderia['City'] == cidade_do_imovel]\n",
      "C:\\Users\\rachels\\AppData\\Local\\Temp\\ipykernel_7940\\2443159915.py:9: UserWarning: Boolean Series key will be reindexed to match DataFrame index.\n",
      "  df_filtro_cidade = df_apenas_valores[df_valor_lavanderia['City'] == cidade_do_imovel]\n",
      "C:\\Users\\rachels\\AppData\\Local\\Temp\\ipykernel_7940\\2443159915.py:9: UserWarning: Boolean Series key will be reindexed to match DataFrame index.\n",
      "  df_filtro_cidade = df_apenas_valores[df_valor_lavanderia['City'] == cidade_do_imovel]\n",
      "C:\\Users\\rachels\\AppData\\Local\\Temp\\ipykernel_7940\\2443159915.py:9: UserWarning: Boolean Series key will be reindexed to match DataFrame index.\n",
      "  df_filtro_cidade = df_apenas_valores[df_valor_lavanderia['City'] == cidade_do_imovel]\n",
      "C:\\Users\\rachels\\AppData\\Local\\Temp\\ipykernel_7940\\2443159915.py:9: UserWarning: Boolean Series key will be reindexed to match DataFrame index.\n",
      "  df_filtro_cidade = df_apenas_valores[df_valor_lavanderia['City'] == cidade_do_imovel]\n",
      "C:\\Users\\rachels\\AppData\\Local\\Temp\\ipykernel_7940\\2443159915.py:9: UserWarning: Boolean Series key will be reindexed to match DataFrame index.\n",
      "  df_filtro_cidade = df_apenas_valores[df_valor_lavanderia['City'] == cidade_do_imovel]\n",
      "C:\\Users\\rachels\\AppData\\Local\\Temp\\ipykernel_7940\\2443159915.py:9: UserWarning: Boolean Series key will be reindexed to match DataFrame index.\n",
      "  df_filtro_cidade = df_apenas_valores[df_valor_lavanderia['City'] == cidade_do_imovel]\n"
     ]
    }
   ],
   "source": [
    "#Encontrar o custo da lavanderia de cada imóvel\n",
    "\n",
    "qtde_imoveis = len(code_moveis_comodos) \n",
    "df_valor_lavanderia = pd.read_excel('Parametros - Taxa de Limpeza.xlsx', sheet_name='BD - Valor Lavanderia Por Item') \n",
    "for imovel in range(qtde_imoveis): \n",
    "    dados_do_imovel = code_moveis_comodos[imovel] #pega dicionario com infos do imovel\n",
    "    cidade_do_imovel = dados_do_imovel['city']\n",
    "    df_apenas_valores = df_valor_lavanderia.drop(columns=['City', 'Média Original por cidade (m) ']).drop([56, 57, 60]) #remove linhas relacionadas as medias\n",
    "    df_filtro_cidade = df_apenas_valores[df_valor_lavanderia['City'] == cidade_do_imovel]\n",
    "    preco_lavanderia_imovel = []\n",
    "    for produto in df_apenas_valores.columns:\n",
    "        nome_do_produto = produto.lower()\n",
    "        qtde_produto_imovel = dados_do_imovel.get(nome_do_produto, 0)  # Usa get para evitar erro se a chave não existir\n",
    "        valor_produto = round(float(df_apenas_valores[produto].values[30]), 2)\n",
    "        if pd.notna(valor_produto):\n",
    "                preco_lavanderia_imovel.append(qtde_produto_imovel * valor_produto)\n",
    "    code_moveis_comodos[imovel]['total de gastos da lavanderia'] = soma_elementos_lista(preco_lavanderia_imovel)\n"
   ]
  },
  {
   "cell_type": "code",
   "execution_count": 40,
   "metadata": {},
   "outputs": [
    {
     "name": "stdout",
     "output_type": "stream",
     "text": [
      "[{'code': 'OKA101', 'city': 'Florianópolis', 'numero quartos': 1, 'numero banheiros': 1, 'total de gastos do banheiro': 34.245, 'total de gastos do lavabo': 0.0, 'total de gastos da lavanderia': 260.06}, {'code': 'OKA102', 'city': 'Florianópolis', 'numero quartos': 1, 'numero banheiros': 1, 'total de gastos do banheiro': 34.245, 'total de gastos do lavabo': 0.0, 'total de gastos da lavanderia': 166.1}, {'code': 'OKA105', 'city': 'Florianópolis', 'numero quartos': 1, 'numero banheiros': 1, 'total de gastos do banheiro': 34.245, 'total de gastos do lavabo': 0.0, 'total de gastos da lavanderia': 195.07}, {'code': 'OKA106', 'city': 'Florianópolis', 'numero quartos': 1, 'numero banheiros': 1, 'total de gastos do banheiro': 34.245, 'total de gastos do lavabo': 0.0, 'total de gastos da lavanderia': 283.81}, {'code': 'OKA110', 'city': 'Florianópolis', 'numero quartos': 1, 'numero banheiros': 1, 'total de gastos do banheiro': 34.245, 'total de gastos do lavabo': 0.0, 'total de gastos da lavanderia': 268.56}, {'code': 'OKA111', 'city': 'Florianópolis', 'numero quartos': 1, 'numero banheiros': 1, 'total de gastos do banheiro': 34.245, 'total de gastos do lavabo': 0.0, 'total de gastos da lavanderia': 193.77999999999997}, {'code': 'OKA120', 'city': 'Florianópolis', 'numero quartos': 1, 'numero banheiros': 1, 'total de gastos do banheiro': 34.245, 'total de gastos do lavabo': 0.0, 'total de gastos da lavanderia': 222.67}, {'code': 'OKA128', 'city': 'Florianópolis', 'numero quartos': 1, 'numero banheiros': 1, 'total de gastos do banheiro': 34.245, 'total de gastos do lavabo': 0.0, 'total de gastos da lavanderia': 133.69}, {'code': 'OKA131', 'city': 'Florianópolis', 'numero quartos': 1, 'numero banheiros': 1, 'total de gastos do banheiro': 34.245, 'total de gastos do lavabo': 0.0, 'total de gastos da lavanderia': 123.21}, {'code': 'OKA134', 'city': 'Florianópolis', 'numero quartos': 1, 'numero banheiros': 1, 'total de gastos do banheiro': 34.245, 'total de gastos do lavabo': 0.0, 'total de gastos da lavanderia': 59.92999999999999}, {'code': 'OKA139', 'city': 'Florianópolis', 'numero quartos': 1, 'numero banheiros': 1, 'total de gastos do banheiro': 34.245, 'total de gastos do lavabo': 0.0, 'total de gastos da lavanderia': 109.75}, {'code': 'OKA141', 'city': 'Florianópolis', 'numero quartos': 1, 'numero banheiros': 1, 'total de gastos do banheiro': 34.245, 'total de gastos do lavabo': 0.0, 'total de gastos da lavanderia': 203.53}, {'code': 'OKA142', 'city': 'Florianópolis', 'numero quartos': 1, 'numero banheiros': 1, 'total de gastos do banheiro': 34.245, 'total de gastos do lavabo': 0.0, 'total de gastos da lavanderia': 101.28}, {'code': 'OKA204', 'city': 'Florianópolis', 'numero quartos': 1, 'numero banheiros': 1, 'total de gastos do banheiro': 34.245, 'total de gastos do lavabo': 0.0, 'total de gastos da lavanderia': 133.69}, {'code': 'OKA206', 'city': 'Florianópolis', 'numero quartos': 1, 'numero banheiros': 1, 'total de gastos do banheiro': 34.245, 'total de gastos do lavabo': 0.0, 'total de gastos da lavanderia': 0.0}, {'code': 'OKA210', 'city': 'Florianópolis', 'numero quartos': 1, 'numero banheiros': 1, 'total de gastos do banheiro': 34.245, 'total de gastos do lavabo': 0.0, 'total de gastos da lavanderia': 240.92}, {'code': 'OKA213', 'city': 'Florianópolis', 'numero quartos': 1, 'numero banheiros': 1, 'total de gastos do banheiro': 34.245, 'total de gastos do lavabo': 0.0, 'total de gastos da lavanderia': 0.0}, {'code': 'OKA216', 'city': 'Florianópolis', 'numero quartos': 1, 'numero banheiros': 1, 'total de gastos do banheiro': 34.245, 'total de gastos do lavabo': 0.0, 'total de gastos da lavanderia': 268.56}, {'code': 'OKA224', 'city': 'Florianópolis', 'numero quartos': 1, 'numero banheiros': 1, 'total de gastos do banheiro': 34.245, 'total de gastos do lavabo': 0.0, 'total de gastos da lavanderia': 236.67}, {'code': 'OKA233', 'city': 'Florianópolis', 'numero quartos': 1, 'numero banheiros': 1, 'total de gastos do banheiro': 34.245, 'total de gastos do lavabo': 0.0, 'total de gastos da lavanderia': 113.46}]\n"
     ]
    }
   ],
   "source": [
    "#Limpa o dicionário pra deixar apenas os custos finais (apaga quantidade de comodos e itens do dicionario)\n",
    "qtde_imoveis = len(code_moveis_comodos) \n",
    "lista_de_imoveis = []\n",
    "for imovel in range(qtde_imoveis):\n",
    "    dados_do_imovel = code_moveis_comodos[imovel]\n",
    "    dic_auxiliar = {}\n",
    "    for item,quantidade in dados_do_imovel.items():\n",
    "        if (item == 'code' or item == 'city' or item == 'total de gastos da lavanderia' or item == 'total de gastos do banheiro' or item == 'total de gastos do lavabo' or item == 'numero banheiros' or item == 'numero quartos'):\n",
    "            dic_auxiliar[item] = quantidade\n",
    "    lista_de_imoveis.append(dic_auxiliar)\n",
    "code_moveis_comodos.clear()\n",
    "code_moveis_comodos = lista_de_imoveis   \n",
    "print(code_moveis_comodos) "
   ]
  },
  {
   "cell_type": "code",
   "execution_count": 41,
   "metadata": {},
   "outputs": [
    {
     "name": "stdout",
     "output_type": "stream",
     "text": [
      "{'item': nan, 'quantidade por imóvel': 'Total geral:', 'total': 46.094}\n",
      "{'code': 'OKA101', 'city': 'Florianópolis', 'numero quartos': 1, 'numero banheiros': 1, 'total de gastos do banheiro': 34.245, 'total de gastos do lavabo': 0.0, 'total de gastos da lavanderia': 260.06, 'total de gastos de material de limpeza': 46.094}\n",
      "{'code': 'OKA102', 'city': 'Florianópolis', 'numero quartos': 1, 'numero banheiros': 1, 'total de gastos do banheiro': 34.245, 'total de gastos do lavabo': 0.0, 'total de gastos da lavanderia': 166.1, 'total de gastos de material de limpeza': 46.094}\n",
      "{'code': 'OKA105', 'city': 'Florianópolis', 'numero quartos': 1, 'numero banheiros': 1, 'total de gastos do banheiro': 34.245, 'total de gastos do lavabo': 0.0, 'total de gastos da lavanderia': 195.07, 'total de gastos de material de limpeza': 46.094}\n",
      "{'code': 'OKA106', 'city': 'Florianópolis', 'numero quartos': 1, 'numero banheiros': 1, 'total de gastos do banheiro': 34.245, 'total de gastos do lavabo': 0.0, 'total de gastos da lavanderia': 283.81, 'total de gastos de material de limpeza': 46.094}\n",
      "{'code': 'OKA110', 'city': 'Florianópolis', 'numero quartos': 1, 'numero banheiros': 1, 'total de gastos do banheiro': 34.245, 'total de gastos do lavabo': 0.0, 'total de gastos da lavanderia': 268.56, 'total de gastos de material de limpeza': 46.094}\n",
      "{'code': 'OKA111', 'city': 'Florianópolis', 'numero quartos': 1, 'numero banheiros': 1, 'total de gastos do banheiro': 34.245, 'total de gastos do lavabo': 0.0, 'total de gastos da lavanderia': 193.77999999999997, 'total de gastos de material de limpeza': 46.094}\n",
      "{'code': 'OKA120', 'city': 'Florianópolis', 'numero quartos': 1, 'numero banheiros': 1, 'total de gastos do banheiro': 34.245, 'total de gastos do lavabo': 0.0, 'total de gastos da lavanderia': 222.67, 'total de gastos de material de limpeza': 46.094}\n",
      "{'code': 'OKA128', 'city': 'Florianópolis', 'numero quartos': 1, 'numero banheiros': 1, 'total de gastos do banheiro': 34.245, 'total de gastos do lavabo': 0.0, 'total de gastos da lavanderia': 133.69, 'total de gastos de material de limpeza': 46.094}\n",
      "{'code': 'OKA131', 'city': 'Florianópolis', 'numero quartos': 1, 'numero banheiros': 1, 'total de gastos do banheiro': 34.245, 'total de gastos do lavabo': 0.0, 'total de gastos da lavanderia': 123.21, 'total de gastos de material de limpeza': 46.094}\n",
      "{'code': 'OKA134', 'city': 'Florianópolis', 'numero quartos': 1, 'numero banheiros': 1, 'total de gastos do banheiro': 34.245, 'total de gastos do lavabo': 0.0, 'total de gastos da lavanderia': 59.92999999999999, 'total de gastos de material de limpeza': 46.094}\n",
      "{'code': 'OKA139', 'city': 'Florianópolis', 'numero quartos': 1, 'numero banheiros': 1, 'total de gastos do banheiro': 34.245, 'total de gastos do lavabo': 0.0, 'total de gastos da lavanderia': 109.75, 'total de gastos de material de limpeza': 46.094}\n",
      "{'code': 'OKA141', 'city': 'Florianópolis', 'numero quartos': 1, 'numero banheiros': 1, 'total de gastos do banheiro': 34.245, 'total de gastos do lavabo': 0.0, 'total de gastos da lavanderia': 203.53, 'total de gastos de material de limpeza': 46.094}\n",
      "{'code': 'OKA142', 'city': 'Florianópolis', 'numero quartos': 1, 'numero banheiros': 1, 'total de gastos do banheiro': 34.245, 'total de gastos do lavabo': 0.0, 'total de gastos da lavanderia': 101.28, 'total de gastos de material de limpeza': 46.094}\n",
      "{'code': 'OKA204', 'city': 'Florianópolis', 'numero quartos': 1, 'numero banheiros': 1, 'total de gastos do banheiro': 34.245, 'total de gastos do lavabo': 0.0, 'total de gastos da lavanderia': 133.69, 'total de gastos de material de limpeza': 46.094}\n",
      "{'code': 'OKA206', 'city': 'Florianópolis', 'numero quartos': 1, 'numero banheiros': 1, 'total de gastos do banheiro': 34.245, 'total de gastos do lavabo': 0.0, 'total de gastos da lavanderia': 0.0, 'total de gastos de material de limpeza': 46.094}\n",
      "{'code': 'OKA210', 'city': 'Florianópolis', 'numero quartos': 1, 'numero banheiros': 1, 'total de gastos do banheiro': 34.245, 'total de gastos do lavabo': 0.0, 'total de gastos da lavanderia': 240.92, 'total de gastos de material de limpeza': 46.094}\n",
      "{'code': 'OKA213', 'city': 'Florianópolis', 'numero quartos': 1, 'numero banheiros': 1, 'total de gastos do banheiro': 34.245, 'total de gastos do lavabo': 0.0, 'total de gastos da lavanderia': 0.0, 'total de gastos de material de limpeza': 46.094}\n",
      "{'code': 'OKA216', 'city': 'Florianópolis', 'numero quartos': 1, 'numero banheiros': 1, 'total de gastos do banheiro': 34.245, 'total de gastos do lavabo': 0.0, 'total de gastos da lavanderia': 268.56, 'total de gastos de material de limpeza': 46.094}\n",
      "{'code': 'OKA224', 'city': 'Florianópolis', 'numero quartos': 1, 'numero banheiros': 1, 'total de gastos do banheiro': 34.245, 'total de gastos do lavabo': 0.0, 'total de gastos da lavanderia': 236.67, 'total de gastos de material de limpeza': 46.094}\n",
      "{'code': 'OKA233', 'city': 'Florianópolis', 'numero quartos': 1, 'numero banheiros': 1, 'total de gastos do banheiro': 34.245, 'total de gastos do lavabo': 0.0, 'total de gastos da lavanderia': 113.46, 'total de gastos de material de limpeza': 46.094}\n"
     ]
    }
   ],
   "source": [
    "#Encontrando o custo do material de limpeza por imóvel:\n",
    "\n",
    "df_material_limpeza = pd.read_excel('Parametros - Taxa de Limpeza.xlsx', sheet_name='BD - Material de Limpeza')\n",
    "df_material_limpeza = df_material_limpeza.drop(columns=['valor'])\n",
    "\n",
    "#transforma a aba em uma lista de dicionários (cada dic corresponde a uma coluna da tabela)\n",
    "itens_de_limpeza = [{k.lower(): v for k, v in item.items()} for item in df_material_limpeza.to_dict(orient='records')]\n",
    "total_geral = itens_de_limpeza[-1] #pega o ultimo dic (que armazena o somatorio dos custos da aba)\n",
    "print(total_geral)\n",
    "qtde_imoveis = len(code_moveis_comodos) \n",
    "for imovel in range(qtde_imoveis):\n",
    "    dados_do_imovel = code_moveis_comodos[imovel]\n",
    "    custo_material_limpeza = dados_do_imovel['numero banheiros'] * total_geral['total']\n",
    "    code_moveis_comodos[imovel]['total de gastos de material de limpeza'] = custo_material_limpeza\n",
    "    print(code_moveis_comodos[imovel])\n"
   ]
  },
  {
   "cell_type": "code",
   "execution_count": 42,
   "metadata": {},
   "outputs": [],
   "source": [
    "def preco_limpeza_quartos(df_limpeza_diarista, num_quartos):\n",
    "    linha_nro_quartos= df_limpeza_diarista[df_limpeza_diarista['Numero de Quartos'] == num_quartos]\n",
    "    return linha_nro_quartos['Valor'].values[0]\n"
   ]
  },
  {
   "cell_type": "code",
   "execution_count": 43,
   "metadata": {},
   "outputs": [],
   "source": [
    "#Encontrando o custo da limpeza do(a) diarista e armazenando no dicionário de dados do imóvel:\n",
    "\n",
    "qtde_imoveis = len(code_moveis_comodos) \n",
    "df_limpeza_diarista = pd.read_excel('Parametros - Taxa de Limpeza.xlsx', sheet_name='BD - Valor Limpeza Diarista')\n",
    "for imovel in range(qtde_imoveis):\n",
    "    valor_limpeza = preco_limpeza_quartos(df_limpeza_diarista, code_moveis_comodos[imovel]['numero quartos'])\n",
    "    code_moveis_comodos[imovel]['total de gastos da limpeza diarista'] = valor_limpeza"
   ]
  },
  {
   "cell_type": "code",
   "execution_count": 44,
   "metadata": {},
   "outputs": [
    {
     "name": "stdout",
     "output_type": "stream",
     "text": [
      "{'code': 'OKA101', 'total de gastos do banheiro': 34.245, 'total de gastos do lavabo': 0.0, 'total de gastos da lavanderia': 260.06, 'total de gastos de material de limpeza': 46.094, 'total de gastos da limpeza diarista': np.int64(120), 'taxa de limpeza': 460.4}\n",
      "\n",
      "{'code': 'OKA102', 'total de gastos do banheiro': 34.245, 'total de gastos do lavabo': 0.0, 'total de gastos da lavanderia': 166.1, 'total de gastos de material de limpeza': 46.094, 'total de gastos da limpeza diarista': np.int64(120), 'taxa de limpeza': 366.44}\n",
      "\n",
      "{'code': 'OKA105', 'total de gastos do banheiro': 34.245, 'total de gastos do lavabo': 0.0, 'total de gastos da lavanderia': 195.07, 'total de gastos de material de limpeza': 46.094, 'total de gastos da limpeza diarista': np.int64(120), 'taxa de limpeza': 395.41}\n",
      "\n",
      "{'code': 'OKA106', 'total de gastos do banheiro': 34.245, 'total de gastos do lavabo': 0.0, 'total de gastos da lavanderia': 283.81, 'total de gastos de material de limpeza': 46.094, 'total de gastos da limpeza diarista': np.int64(120), 'taxa de limpeza': 484.15}\n",
      "\n",
      "{'code': 'OKA110', 'total de gastos do banheiro': 34.245, 'total de gastos do lavabo': 0.0, 'total de gastos da lavanderia': 268.56, 'total de gastos de material de limpeza': 46.094, 'total de gastos da limpeza diarista': np.int64(120), 'taxa de limpeza': 468.9}\n",
      "\n",
      "{'code': 'OKA111', 'total de gastos do banheiro': 34.245, 'total de gastos do lavabo': 0.0, 'total de gastos da lavanderia': 193.77999999999997, 'total de gastos de material de limpeza': 46.094, 'total de gastos da limpeza diarista': np.int64(120), 'taxa de limpeza': 394.12}\n",
      "\n",
      "{'code': 'OKA120', 'total de gastos do banheiro': 34.245, 'total de gastos do lavabo': 0.0, 'total de gastos da lavanderia': 222.67, 'total de gastos de material de limpeza': 46.094, 'total de gastos da limpeza diarista': np.int64(120), 'taxa de limpeza': 423.01}\n",
      "\n",
      "{'code': 'OKA128', 'total de gastos do banheiro': 34.245, 'total de gastos do lavabo': 0.0, 'total de gastos da lavanderia': 133.69, 'total de gastos de material de limpeza': 46.094, 'total de gastos da limpeza diarista': np.int64(120), 'taxa de limpeza': 334.03}\n",
      "\n",
      "{'code': 'OKA131', 'total de gastos do banheiro': 34.245, 'total de gastos do lavabo': 0.0, 'total de gastos da lavanderia': 123.21, 'total de gastos de material de limpeza': 46.094, 'total de gastos da limpeza diarista': np.int64(120), 'taxa de limpeza': 323.55}\n",
      "\n",
      "{'code': 'OKA134', 'total de gastos do banheiro': 34.245, 'total de gastos do lavabo': 0.0, 'total de gastos da lavanderia': 59.92999999999999, 'total de gastos de material de limpeza': 46.094, 'total de gastos da limpeza diarista': np.int64(120), 'taxa de limpeza': 260.27}\n",
      "\n",
      "{'code': 'OKA139', 'total de gastos do banheiro': 34.245, 'total de gastos do lavabo': 0.0, 'total de gastos da lavanderia': 109.75, 'total de gastos de material de limpeza': 46.094, 'total de gastos da limpeza diarista': np.int64(120), 'taxa de limpeza': 310.09}\n",
      "\n",
      "{'code': 'OKA141', 'total de gastos do banheiro': 34.245, 'total de gastos do lavabo': 0.0, 'total de gastos da lavanderia': 203.53, 'total de gastos de material de limpeza': 46.094, 'total de gastos da limpeza diarista': np.int64(120), 'taxa de limpeza': 403.87}\n",
      "\n",
      "{'code': 'OKA142', 'total de gastos do banheiro': 34.245, 'total de gastos do lavabo': 0.0, 'total de gastos da lavanderia': 101.28, 'total de gastos de material de limpeza': 46.094, 'total de gastos da limpeza diarista': np.int64(120), 'taxa de limpeza': 301.62}\n",
      "\n",
      "{'code': 'OKA204', 'total de gastos do banheiro': 34.245, 'total de gastos do lavabo': 0.0, 'total de gastos da lavanderia': 133.69, 'total de gastos de material de limpeza': 46.094, 'total de gastos da limpeza diarista': np.int64(120), 'taxa de limpeza': 334.03}\n",
      "\n",
      "{'code': 'OKA206', 'total de gastos do banheiro': 34.245, 'total de gastos do lavabo': 0.0, 'total de gastos da lavanderia': 0.0, 'total de gastos de material de limpeza': 46.094, 'total de gastos da limpeza diarista': np.int64(120), 'taxa de limpeza': 200.34}\n",
      "\n",
      "{'code': 'OKA210', 'total de gastos do banheiro': 34.245, 'total de gastos do lavabo': 0.0, 'total de gastos da lavanderia': 240.92, 'total de gastos de material de limpeza': 46.094, 'total de gastos da limpeza diarista': np.int64(120), 'taxa de limpeza': 441.26}\n",
      "\n",
      "{'code': 'OKA213', 'total de gastos do banheiro': 34.245, 'total de gastos do lavabo': 0.0, 'total de gastos da lavanderia': 0.0, 'total de gastos de material de limpeza': 46.094, 'total de gastos da limpeza diarista': np.int64(120), 'taxa de limpeza': 200.34}\n",
      "\n",
      "{'code': 'OKA216', 'total de gastos do banheiro': 34.245, 'total de gastos do lavabo': 0.0, 'total de gastos da lavanderia': 268.56, 'total de gastos de material de limpeza': 46.094, 'total de gastos da limpeza diarista': np.int64(120), 'taxa de limpeza': 468.9}\n",
      "\n",
      "{'code': 'OKA224', 'total de gastos do banheiro': 34.245, 'total de gastos do lavabo': 0.0, 'total de gastos da lavanderia': 236.67, 'total de gastos de material de limpeza': 46.094, 'total de gastos da limpeza diarista': np.int64(120), 'taxa de limpeza': 437.01}\n",
      "\n",
      "{'code': 'OKA233', 'total de gastos do banheiro': 34.245, 'total de gastos do lavabo': 0.0, 'total de gastos da lavanderia': 113.46, 'total de gastos de material de limpeza': 46.094, 'total de gastos da limpeza diarista': np.int64(120), 'taxa de limpeza': 313.8}\n",
      "\n"
     ]
    }
   ],
   "source": [
    "#Encontrando a taxa de limpeza final:\n",
    "qtde_imoveis = len(code_moveis_comodos) \n",
    "for imovel in range(qtde_imoveis):\n",
    "    custos = code_moveis_comodos[imovel]\n",
    "    taxa_de_limpeza = round(float(custos['total de gastos da limpeza diarista'] + custos['total de gastos de material de limpeza'] + custos['total de gastos da lavanderia'] + custos['total de gastos do banheiro'] + custos['total de gastos do lavabo']),2)\n",
    "\n",
    "    #armazena o valor da taxa de limpeza no dicionario de dados do imovel:\n",
    "    code_moveis_comodos[imovel]['taxa de limpeza'] = taxa_de_limpeza\n",
    "\n",
    "    #remove colunas que agora são desnecessárias:\n",
    "    code_moveis_comodos[imovel].pop('city')\n",
    "    code_moveis_comodos[imovel].pop('numero quartos')\n",
    "    code_moveis_comodos[imovel].pop('numero banheiros')    \n",
    "\n",
    "    print(code_moveis_comodos[imovel])\n",
    "    print()"
   ]
  },
  {
   "cell_type": "code",
   "execution_count": 45,
   "metadata": {},
   "outputs": [],
   "source": [
    "qtde_imoveis = len(code_moveis_comodos)\n",
    "\n",
    "for imovel in range(qtde_imoveis):\n",
    "    df_taxa_limpeza = pd.DataFrame(code_moveis_comodos)\n"
   ]
  },
  {
   "cell_type": "code",
   "execution_count": 49,
   "metadata": {},
   "outputs": [
    {
     "name": "stdout",
     "output_type": "stream",
     "text": [
      "[{'code': 'OKA101', 'total de gastos do banheiro': 34.245, 'total de gastos do lavabo': 0.0, 'total de gastos da lavanderia': 260.06, 'total de gastos de material de limpeza': 46.094, 'total de gastos da limpeza diarista': np.int64(120), 'taxa de limpeza': 460.4}, {'code': 'OKA102', 'total de gastos do banheiro': 34.245, 'total de gastos do lavabo': 0.0, 'total de gastos da lavanderia': 166.1, 'total de gastos de material de limpeza': 46.094, 'total de gastos da limpeza diarista': np.int64(120), 'taxa de limpeza': 366.44}, {'code': 'OKA105', 'total de gastos do banheiro': 34.245, 'total de gastos do lavabo': 0.0, 'total de gastos da lavanderia': 195.07, 'total de gastos de material de limpeza': 46.094, 'total de gastos da limpeza diarista': np.int64(120), 'taxa de limpeza': 395.41}, {'code': 'OKA106', 'total de gastos do banheiro': 34.245, 'total de gastos do lavabo': 0.0, 'total de gastos da lavanderia': 283.81, 'total de gastos de material de limpeza': 46.094, 'total de gastos da limpeza diarista': np.int64(120), 'taxa de limpeza': 484.15}, {'code': 'OKA110', 'total de gastos do banheiro': 34.245, 'total de gastos do lavabo': 0.0, 'total de gastos da lavanderia': 268.56, 'total de gastos de material de limpeza': 46.094, 'total de gastos da limpeza diarista': np.int64(120), 'taxa de limpeza': 468.9}, {'code': 'OKA111', 'total de gastos do banheiro': 34.245, 'total de gastos do lavabo': 0.0, 'total de gastos da lavanderia': 193.77999999999997, 'total de gastos de material de limpeza': 46.094, 'total de gastos da limpeza diarista': np.int64(120), 'taxa de limpeza': 394.12}, {'code': 'OKA120', 'total de gastos do banheiro': 34.245, 'total de gastos do lavabo': 0.0, 'total de gastos da lavanderia': 222.67, 'total de gastos de material de limpeza': 46.094, 'total de gastos da limpeza diarista': np.int64(120), 'taxa de limpeza': 423.01}, {'code': 'OKA128', 'total de gastos do banheiro': 34.245, 'total de gastos do lavabo': 0.0, 'total de gastos da lavanderia': 133.69, 'total de gastos de material de limpeza': 46.094, 'total de gastos da limpeza diarista': np.int64(120), 'taxa de limpeza': 334.03}, {'code': 'OKA131', 'total de gastos do banheiro': 34.245, 'total de gastos do lavabo': 0.0, 'total de gastos da lavanderia': 123.21, 'total de gastos de material de limpeza': 46.094, 'total de gastos da limpeza diarista': np.int64(120), 'taxa de limpeza': 323.55}, {'code': 'OKA134', 'total de gastos do banheiro': 34.245, 'total de gastos do lavabo': 0.0, 'total de gastos da lavanderia': 59.92999999999999, 'total de gastos de material de limpeza': 46.094, 'total de gastos da limpeza diarista': np.int64(120), 'taxa de limpeza': 260.27}, {'code': 'OKA139', 'total de gastos do banheiro': 34.245, 'total de gastos do lavabo': 0.0, 'total de gastos da lavanderia': 109.75, 'total de gastos de material de limpeza': 46.094, 'total de gastos da limpeza diarista': np.int64(120), 'taxa de limpeza': 310.09}, {'code': 'OKA141', 'total de gastos do banheiro': 34.245, 'total de gastos do lavabo': 0.0, 'total de gastos da lavanderia': 203.53, 'total de gastos de material de limpeza': 46.094, 'total de gastos da limpeza diarista': np.int64(120), 'taxa de limpeza': 403.87}, {'code': 'OKA142', 'total de gastos do banheiro': 34.245, 'total de gastos do lavabo': 0.0, 'total de gastos da lavanderia': 101.28, 'total de gastos de material de limpeza': 46.094, 'total de gastos da limpeza diarista': np.int64(120), 'taxa de limpeza': 301.62}, {'code': 'OKA204', 'total de gastos do banheiro': 34.245, 'total de gastos do lavabo': 0.0, 'total de gastos da lavanderia': 133.69, 'total de gastos de material de limpeza': 46.094, 'total de gastos da limpeza diarista': np.int64(120), 'taxa de limpeza': 334.03}, {'code': 'OKA206', 'total de gastos do banheiro': 34.245, 'total de gastos do lavabo': 0.0, 'total de gastos da lavanderia': 0.0, 'total de gastos de material de limpeza': 46.094, 'total de gastos da limpeza diarista': np.int64(120), 'taxa de limpeza': 200.34}, {'code': 'OKA210', 'total de gastos do banheiro': 34.245, 'total de gastos do lavabo': 0.0, 'total de gastos da lavanderia': 240.92, 'total de gastos de material de limpeza': 46.094, 'total de gastos da limpeza diarista': np.int64(120), 'taxa de limpeza': 441.26}, {'code': 'OKA213', 'total de gastos do banheiro': 34.245, 'total de gastos do lavabo': 0.0, 'total de gastos da lavanderia': 0.0, 'total de gastos de material de limpeza': 46.094, 'total de gastos da limpeza diarista': np.int64(120), 'taxa de limpeza': 200.34}, {'code': 'OKA216', 'total de gastos do banheiro': 34.245, 'total de gastos do lavabo': 0.0, 'total de gastos da lavanderia': 268.56, 'total de gastos de material de limpeza': 46.094, 'total de gastos da limpeza diarista': np.int64(120), 'taxa de limpeza': 468.9}, {'code': 'OKA224', 'total de gastos do banheiro': 34.245, 'total de gastos do lavabo': 0.0, 'total de gastos da lavanderia': 236.67, 'total de gastos de material de limpeza': 46.094, 'total de gastos da limpeza diarista': np.int64(120), 'taxa de limpeza': 437.01}, {'code': 'OKA233', 'total de gastos do banheiro': 34.245, 'total de gastos do lavabo': 0.0, 'total de gastos da lavanderia': 113.46, 'total de gastos de material de limpeza': 46.094, 'total de gastos da limpeza diarista': np.int64(120), 'taxa de limpeza': 313.8}]\n"
     ]
    }
   ],
   "source": [
    "# Converter a lista de dicionários para um DataFrame\n",
    "print(code_moveis_comodos)\n",
    "df_taxa_limpeza = pd.DataFrame(code_moveis_comodos)\n",
    "\n",
    "# Carregar o arquivo Excel existente\n",
    "file_path = 'Parametros - Taxa de Limpeza.xlsx'\n",
    "workbook = openpyxl.load_workbook(file_path)\n",
    "\n",
    "# Selecionar a aba específica que deseja modificar\n",
    "sheet = workbook['TaxaLimpeza (Atual)']\n",
    "\n",
    "\n",
    "# Atualizar os dados da aba selecionada\n",
    "for row_idx, data_row in enumerate(df_taxa_limpeza.itertuples(index=False), start=2):  # Começa na linha 2 para pular o cabeçalho\n",
    "    for col_idx, value in enumerate(data_row, start=1):  # Começa na coluna 1 (A)\n",
    "        cell = sheet.cell(row=row_idx, column=col_idx)\n",
    "        cell.value = value\n",
    "\n",
    "# Criar um estilo de célula para moeda em Real brasileiro\n",
    "currency_style = NamedStyle(name='currency_style', number_format='R$ #,##0.00')\n",
    "\n",
    "# Definir as colunas que você deseja formatar como Moeda\n",
    "# Ajuste as colunas conforme a sua planilha\n",
    "currency_columns = [2, 3, 4, 5, 6, 7]  # Atualize conforme as colunas de valores na sua planilha\n",
    "\n",
    "for col in currency_columns:\n",
    "    for row in range(2, sheet.max_row + 1):  # Assume que a primeira linha é o cabeçalho\n",
    "        cell = sheet.cell(row=row, column=col)\n",
    "        cell.style = currency_style\n",
    "\n",
    "# Salvar o arquivo Excel com as atualizações\n",
    "workbook.save('Resultado - Taxa de Limpeza.xlsx')"
   ]
  }
 ],
 "metadata": {
  "kernelspec": {
   "display_name": "Python 3",
   "language": "python",
   "name": "python3"
  },
  "language_info": {
   "codemirror_mode": {
    "name": "ipython",
    "version": 3
   },
   "file_extension": ".py",
   "mimetype": "text/x-python",
   "name": "python",
   "nbconvert_exporter": "python",
   "pygments_lexer": "ipython3",
   "version": "3.11.9"
  }
 },
 "nbformat": 4,
 "nbformat_minor": 2
}
